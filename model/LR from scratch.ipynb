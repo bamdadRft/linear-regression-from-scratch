{
  "nbformat": 4,
  "nbformat_minor": 0,
  "metadata": {
    "colab": {
      "provenance": []
    },
    "kernelspec": {
      "name": "python3",
      "display_name": "Python 3"
    },
    "language_info": {
      "name": "python"
    }
  },
  "cells": [
    {
      "cell_type": "code",
      "execution_count": null,
      "metadata": {
        "id": "NBuyn611iZ9g"
      },
      "outputs": [],
      "source": [
        "import pandas as pd \n",
        "import numpy as np\n",
        "import matplotlib.pyplot as plt\n",
        "import random\n",
        "from sklearn.linear_model import LinearRegression\n",
        "from sklearn.metrics import mean_squared_error"
      ]
    },
    {
      "cell_type": "markdown",
      "source": [
        "## implementing linear regression from scratch"
      ],
      "metadata": {
        "id": "OmiJxWG3il9j"
      }
    },
    {
      "cell_type": "code",
      "source": [
        "# let us first build up our data with linear regression formula \n",
        "def generate_data():\n",
        "\n",
        "  w = 0.7\n",
        "  b = 0.3\n",
        "\n",
        "  X = np.arange(0, 1, 0.02)\n",
        "\n",
        "  Y = w * X + b\n",
        "\n",
        "  train_split = int(0.8 * len(X)) # 80% of data for training\n",
        "  x_train, y_train = X[:train_split], Y[:train_split]\n",
        "  x_test, y_test = X[train_split:], Y[train_split:]\n",
        "  return x_train, x_test, y_train, y_test"
      ],
      "metadata": {
        "id": "cPjyXtyGis6D"
      },
      "execution_count": null,
      "outputs": []
    },
    {
      "cell_type": "code",
      "source": [
        "x_train, x_test, y_train, y_test = generate_data()"
      ],
      "metadata": {
        "id": "zLzb3nnFvJRg"
      },
      "execution_count": null,
      "outputs": []
    },
    {
      "cell_type": "code",
      "source": [
        "def plot_predictions(train_data=x_train, \n",
        "                     train_labels=y_train, \n",
        "                     test_data=x_test, \n",
        "                     test_labels=y_test, \n",
        "                     predictions=None):\n",
        "  plt.figure(figsize=(8, 5))\n",
        "\n",
        "  # Plot training data in blue\n",
        "  plt.scatter(train_data, train_labels, c=\"b\", s=4, label=\"Training data\")\n",
        "  \n",
        "  # Plot test data in green\n",
        "  plt.scatter(test_data, test_labels, c=\"g\", s=4, label=\"Testing data\")\n",
        "\n",
        "  if predictions is not None:\n",
        "    # Plot the predictions in red (predictions were made on the test data)\n",
        "    plt.scatter(test_data, predictions, c=\"r\", s=4, label=\"Predictions\")\n",
        "\n",
        "  # Show the legend\n",
        "  plt.legend(prop={\"size\": 14});"
      ],
      "metadata": {
        "id": "lWM6JFSikTi4"
      },
      "execution_count": null,
      "outputs": []
    },
    {
      "cell_type": "code",
      "source": [
        "plot_predictions()"
      ],
      "metadata": {
        "colab": {
          "base_uri": "https://localhost:8080/",
          "height": 445
        },
        "id": "9CMsZl2fkdtu",
        "outputId": "fd431830-f560-413d-a663-81cec75e8d86"
      },
      "execution_count": null,
      "outputs": [
        {
          "output_type": "display_data",
          "data": {
            "text/plain": [
              "<Figure size 800x500 with 1 Axes>"
            ],
            "image/png": "[encoded data removed]"
          },
          "metadata": {}
        }
      ]
    },
    {
      "cell_type": "code",
      "source": [
        "# implementing linear regression model\n",
        "class linear_regression():\n",
        "\n",
        "  def __init__(self, alpha, n):\n",
        "    random.seed(42)\n",
        "    self.alpha = alpha\n",
        "    self.n = n\n",
        "    self.w = random.random()\n",
        "    self.b = random.random()\n",
        "\n",
        "  def fit(self, x, y):\n",
        "    y_hat = self.w * x + self.b\n",
        "\n",
        "    for i in range(self.n):\n",
        "      dw = (1/self.n) * np.dot(x, y_hat - y)\n",
        "      db = (1/self.n) * np.sum(y_hat - y)\n",
        "      self.w -= self.alpha * dw\n",
        "      self.b -= self.alpha * db\n",
        "\n",
        "  def predict(self, x):\n",
        "    return self.w * x + self.b\n",
        "\n",
        "  def MSE(self, y, y_hat):\n",
        "    return np.mean((y - y_hat)**2)"
      ],
      "metadata": {
        "id": "2ozAfkTikfS8"
      },
      "execution_count": null,
      "outputs": []
    },
    {
      "cell_type": "code",
      "source": [
        "model = linear_regression(0.02, 10000)\n",
        "model.w, model.b"
      ],
      "metadata": {
        "colab": {
          "base_uri": "https://localhost:8080/"
        },
        "id": "v4_e5cxZsRLM",
        "outputId": "ba7a0b35-7390-4681-bb2c-a723704c701c"
      },
      "execution_count": null,
      "outputs": [
        {
          "output_type": "execute_result",
          "data": {
            "text/plain": [
              "(0.6394267984578837, 0.025010755222666936)"
            ]
          },
          "metadata": {},
          "execution_count": 31
        }
      ]
    },
    {
      "cell_type": "code",
      "source": [
        "model.fit(x_train, y_train)\n",
        "predictions = model.predict(x_test)\n",
        "plot_predictions(predictions = predictions)"
      ],
      "metadata": {
        "colab": {
          "base_uri": "https://localhost:8080/",
          "height": 445
        },
        "id": "Bg7V23Cms_X_",
        "outputId": "05fd9460-e1b9-41ad-9669-6d2e8d0fc67f"
      },
      "execution_count": null,
      "outputs": [
        {
          "output_type": "display_data",
          "data": {
            "text/plain": [
              "<Figure size 800x500 with 1 Axes>"
            ],
            "image/png": "[encoded data removed]"
          },
          "metadata": {}
        }
      ]
    },
    {
      "cell_type": "code",
      "source": [
        "# model parameters \n",
        "print(f\"weight : {model.w} bias : {model.b}\")"
      ],
      "metadata": {
        "colab": {
          "base_uri": "https://localhost:8080/"
        },
        "id": "1fF7Pjh4rgjF",
        "outputId": "5b2737df-a781-470b-d489-d2723afe6c15"
      },
      "execution_count": null,
      "outputs": [
        {
          "output_type": "stream",
          "name": "stdout",
          "text": [
            "weight : 0.7351768313058914 bias : 0.2639009899256855\n"
          ]
        }
      ]
    },
    {
      "cell_type": "code",
      "source": [
        "# calculating mean squared error for our model\n",
        "model.MSE(y_test, predictions)"
      ],
      "metadata": {
        "colab": {
          "base_uri": "https://localhost:8080/"
        },
        "id": "64ZfBH9ss6Z6",
        "outputId": "1c1c0071-8fb5-4ae5-b04e-ceda57b663e4"
      },
      "execution_count": null,
      "outputs": [
        {
          "output_type": "execute_result",
          "data": {
            "text/plain": [
              "2.7043171309618416e-05"
            ]
          },
          "metadata": {},
          "execution_count": 34
        }
      ]
    },
    {
      "cell_type": "markdown",
      "source": [
        "## implementing linear regression with scikit learn"
      ],
      "metadata": {
        "id": "ilXdJR1ysaxF"
      }
    },
    {
      "cell_type": "code",
      "source": [
        "x_train, x_test, y_train, y_test = generate_data()\n",
        "x_train, x_test, y_train, y_test = x_train.reshape(-1, 1), x_test.reshape(-1, 1), y_train.reshape(-1,1), y_test.reshape(-1,1)\n",
        "model1 = LinearRegression()\n",
        "model1.fit(x_train, y_train)\n",
        "model1.score(x_test, y_test) # R-squared"
      ],
      "metadata": {
        "colab": {
          "base_uri": "https://localhost:8080/"
        },
        "id": "RKFaER9huHHG",
        "outputId": "fa7bee2b-cc59-4469-c9cf-7421ffa13e6e"
      },
      "execution_count": null,
      "outputs": [
        {
          "output_type": "execute_result",
          "data": {
            "text/plain": [
              "1.0"
            ]
          },
          "metadata": {},
          "execution_count": 39
        }
      ]
    },
    {
      "cell_type": "code",
      "source": [
        "predictions = model1.predict(x_test)\n",
        "plot_predictions(predictions = predictions)"
      ],
      "metadata": {
        "colab": {
          "base_uri": "https://localhost:8080/",
          "height": 445
        },
        "id": "N8HFA3aBvSdp",
        "outputId": "2c11b590-6eba-413b-a341-b02eed334381"
      },
      "execution_count": null,
      "outputs": [
        {
          "output_type": "display_data",
          "data": {
            "text/plain": [
              "<Figure size 800x500 with 1 Axes>"
            ],
            "image/png": "[encoded data removed]"
          },
          "metadata": {}
        }
      ]
    },
    {
      "cell_type": "code",
      "source": [
        "mse = mean_squared_error(y_true=y_test,y_pred=predictions)\n",
        "mse"
      ],
      "metadata": {
        "colab": {
          "base_uri": "https://localhost:8080/"
        },
        "id": "V43UnzDxwMyp",
        "outputId": "2cc2a4fd-be4c-4965-a0d7-59668b2e93fb"
      },
      "execution_count": null,
      "outputs": [
        {
          "output_type": "execute_result",
          "data": {
            "text/plain": [
              "9.860761315262648e-33"
            ]
          },
          "metadata": {},
          "execution_count": 41
        }
      ]
    },
    {
      "cell_type": "markdown",
      "source": [
        "## implementing linear regression with normal equation as the training algorithm"
      ],
      "metadata": {
        "id": "ppDyuK06wqdP"
      }
    },
    {
      "cell_type": "code",
      "source": [
        "# geting data\n",
        "x_train, x_test, y_trian, y_test = generate_data()"
      ],
      "metadata": {
        "id": "ANKNZMyEuwnu"
      },
      "execution_count": null,
      "outputs": []
    },
    {
      "cell_type": "markdown",
      "source": [
        "## The formula of normal equation\n",
        " $θ̂ = (X^{T} . X)^{-1} . X^{T}. y$"
      ],
      "metadata": {
        "id": "9qqwqQOgvrYi"
      }
    },
    {
      "cell_type": "code",
      "source": [
        "from numpy.linalg import inv"
      ],
      "metadata": {
        "id": "08TreOkvyWSB"
      },
      "execution_count": null,
      "outputs": []
    },
    {
      "cell_type": "code",
      "source": [
        "# linear regression with normal equation\n",
        "class linear_regression_normal_equation():\n",
        "  def __init__(self, x, y):\n",
        "    self.x = x\n",
        "    self.y = y\n",
        "\n",
        "  def normal(self, x):\n",
        "    self.params = inv(x.T.dot(x)).dot(x.T).dot(self.y)\n",
        "    return self.params\n",
        "  \n",
        "  def predict(self, x):\n",
        "    return self.params[1][0] * x + self.params[0][0]\n",
        "\n",
        "  def MSE(self, y, y_hat):\n",
        "    return np.mean((y_hat - y) ** 2)"
      ],
      "metadata": {
        "id": "kPqK75NYwBHe"
      },
      "execution_count": null,
      "outputs": []
    },
    {
      "cell_type": "code",
      "source": [
        "model = linear_regression_normal_equation(x_train, y_train)"
      ],
      "metadata": {
        "id": "87ji11iayDId"
      },
      "execution_count": null,
      "outputs": []
    },
    {
      "cell_type": "code",
      "source": [
        "X_b = np.c_[np.ones((40, 1)), x_train] # set bias term to 1 for each sample  "
      ],
      "metadata": {
        "id": "2V4D63sMySWn"
      },
      "execution_count": null,
      "outputs": []
    },
    {
      "cell_type": "code",
      "source": [
        "model.normal(X_b)"
      ],
      "metadata": {
        "colab": {
          "base_uri": "https://localhost:8080/"
        },
        "id": "XzX97-uRytt7",
        "outputId": "42df2649-f484-453a-abcc-b74ba09d4417"
      },
      "execution_count": null,
      "outputs": [
        {
          "output_type": "execute_result",
          "data": {
            "text/plain": [
              "array([[0.3],\n",
              "       [0.7]])"
            ]
          },
          "metadata": {},
          "execution_count": 83
        }
      ]
    },
    {
      "cell_type": "code",
      "source": [
        "# model parameters \n",
        "print(f\"weight : {model.params[1][0]} bias : {model.params[0][0]}\")"
      ],
      "metadata": {
        "colab": {
          "base_uri": "https://localhost:8080/"
        },
        "id": "SF2oHWfw2cZZ",
        "outputId": "02801617-9a10-458d-a3d7-9d865722e323"
      },
      "execution_count": null,
      "outputs": [
        {
          "output_type": "stream",
          "name": "stdout",
          "text": [
            "weight : 0.7000000000000005 bias : 0.29999999999999993\n"
          ]
        }
      ]
    },
    {
      "cell_type": "code",
      "source": [
        "# prediction \n",
        "predictions = model.predict(x_test)\n",
        "plot_predictions(predictions = predictions)"
      ],
      "metadata": {
        "colab": {
          "base_uri": "https://localhost:8080/",
          "height": 445
        },
        "id": "YScVeZx6zHsg",
        "outputId": "33312301-b929-4593-85a4-9a3d840a5848"
      },
      "execution_count": null,
      "outputs": [
        {
          "output_type": "display_data",
          "data": {
            "text/plain": [
              "<Figure size 800x500 with 1 Axes>"
            ],
            "image/png": "[encoded data removed]"
          },
          "metadata": {}
        }
      ]
    },
    {
      "cell_type": "code",
      "source": [
        "#calculatin MSE\n",
        "model.MSE(y_test, predictions)"
      ],
      "metadata": {
        "colab": {
          "base_uri": "https://localhost:8080/"
        },
        "id": "QH0VaAe61TB5",
        "outputId": "15bcb388-19bd-4ab8-c654-bcc12a6be248"
      },
      "execution_count": null,
      "outputs": [
        {
          "output_type": "execute_result",
          "data": {
            "text/plain": [
              "2.083085827849234e-31"
            ]
          },
          "metadata": {},
          "execution_count": 85
        }
      ]
    },
    {
      "cell_type": "code",
      "source": [],
      "metadata": {
        "id": "CWNvZocX1q7Q"
      },
      "execution_count": null,
      "outputs": []
    }
  ]
}